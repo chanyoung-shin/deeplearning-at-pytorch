{
 "cells": [
  {
   "cell_type": "code",
   "execution_count": 1,
   "metadata": {},
   "outputs": [
    {
     "name": "stdout",
     "output_type": "stream",
     "text": [
      "xh가중치 또는 hh가중치: Parameter containing:\n",
      "tensor([[2., 2.],\n",
      "        [2., 2.],\n",
      "        [2., 2.],\n",
      "        [2., 2.]], requires_grad=True)\n",
      "xh가중치 또는 hh가중치: Parameter containing:\n",
      "tensor([[2., 2., 2., 2.],\n",
      "        [2., 2., 2., 2.],\n",
      "        [2., 2., 2., 2.],\n",
      "        [2., 2., 2., 2.]], requires_grad=True)\n",
      "초기 hidden 값: tensor([[[2., 2., 2., 2.]]])\n",
      "torch.Size([1, 5, 4])\n",
      "torch.Size([1, 1, 4])\n"
     ]
    }
   ],
   "source": [
    "import torch\n",
    "from torch import nn\n",
    "\n",
    "\n",
    "input_size = 2\n",
    "ouput_size = 4\n",
    "num_layers = 1\n",
    "bidirectional = False\n",
    "\n",
    "model = nn.RNN(\n",
    "    input_size=input_size,\n",
    "    hidden_size=ouput_size,\n",
    "    num_layers=num_layers,\n",
    "    nonlinearity=\"relu\",\n",
    "    batch_first=True,\n",
    "    bidirectional=bidirectional,\n",
    "    bias=False\n",
    ")\n",
    "c=1\n",
    "for name, param in model.named_parameters():\n",
    "    if 'weight' in name:\n",
    "        nn.init.constant_(param, 2.0)\n",
    "        print('xh가중치 또는 hh가중치:',param)\n",
    "        #가중치를 조절한 다음 행렬곱을 통해 입력값과 은닉값의 차원을 맞춰준다.\n",
    "        \n",
    "\n",
    "batch_size = 1\n",
    "sequence_len =5\n",
    "\n",
    "inputs = torch.Tensor( batch_size,sequence_len, input_size).fill_(2)\n",
    "h_0 = torch.Tensor(num_layers * (int(bidirectional) + 1), batch_size, ouput_size).fill_(2)\n",
    "print('초기 hidden 값:',h_0)\n",
    "outputs, hidden = model(inputs, h_0)\n",
    "print(outputs.shape)\n",
    "print(hidden.shape)"
   ]
  },
  {
   "cell_type": "code",
   "execution_count": 3,
   "metadata": {},
   "outputs": [
    {
     "name": "stdout",
     "output_type": "stream",
     "text": [
      "tensor([[[2., 2.],\n",
      "         [2., 2.],\n",
      "         [2., 2.],\n",
      "         [2., 2.],\n",
      "         [2., 2.]]])\n"
     ]
    }
   ],
   "source": [
    "\n",
    "print(inputs) #배치크기 시퀀스 크기 데이터 크기\n"
   ]
  },
  {
   "cell_type": "code",
   "execution_count": 4,
   "metadata": {},
   "outputs": [
    {
     "name": "stdout",
     "output_type": "stream",
     "text": [
      "tensor([[[2.4000e+01, 2.4000e+01, 2.4000e+01, 2.4000e+01],\n",
      "         [2.0000e+02, 2.0000e+02, 2.0000e+02, 2.0000e+02],\n",
      "         [1.6080e+03, 1.6080e+03, 1.6080e+03, 1.6080e+03],\n",
      "         [1.2872e+04, 1.2872e+04, 1.2872e+04, 1.2872e+04],\n",
      "         [1.0298e+05, 1.0298e+05, 1.0298e+05, 1.0298e+05]]],\n",
      "       grad_fn=<TransposeBackward1>)\n"
     ]
    }
   ],
   "source": [
    "print(outputs)#배치크기 은닉상태 크기 시퀀스길이 "
   ]
  },
  {
   "cell_type": "code",
   "execution_count": 5,
   "metadata": {},
   "outputs": [
    {
     "name": "stdout",
     "output_type": "stream",
     "text": [
      "tensor([[[102984., 102984., 102984., 102984.]]], grad_fn=<StackBackward0>)\n"
     ]
    }
   ],
   "source": [
    "print(hidden)"
   ]
  },
  {
   "cell_type": "code",
   "execution_count": 11,
   "metadata": {},
   "outputs": [
    {
     "name": "stdout",
     "output_type": "stream",
     "text": [
      "tensor([[16, 16, 16, 16]])\n",
      "tensor([[8, 8, 8, 8]])\n",
      "tensor([[24, 24, 24, 24]])\n"
     ]
    }
   ],
   "source": [
    "\n",
    "w=torch.tensor([[2,2,2,2],\n",
    "                [2,2,2,2],\n",
    "                [2,2,2,2],\n",
    "                [2,2,2,2]])\n",
    "\n",
    "v=torch.tensor([[2,2,2,2]])\n",
    "v=torch.transpose(v,0,1)\n",
    "print(torch.transpose(w@v,0,1))#행렬곱\n",
    "\n",
    "w1=torch.tensor([[2,2],\n",
    "                [2,2],\n",
    "                [2,2],\n",
    "                [2,2]])\n",
    "\n",
    "v1=torch.tensor([[2,2]])\n",
    "v1=torch.transpose(v1,0,1)\n",
    "print(torch.transpose(w1@v1,0,1))\n",
    "\n",
    "print(torch.transpose(w1@v1,0,1)+torch.transpose(w@v,0,1))"
   ]
  }
 ],
 "metadata": {
  "kernelspec": {
   "display_name": "base",
   "language": "python",
   "name": "python3"
  },
  "language_info": {
   "codemirror_mode": {
    "name": "ipython",
    "version": 3
   },
   "file_extension": ".py",
   "mimetype": "text/x-python",
   "name": "python",
   "nbconvert_exporter": "python",
   "pygments_lexer": "ipython3",
   "version": "3.11.5"
  }
 },
 "nbformat": 4,
 "nbformat_minor": 2
}
