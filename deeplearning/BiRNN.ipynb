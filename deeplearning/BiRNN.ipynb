{
 "cells": [
  {
   "cell_type": "code",
   "execution_count": 23,
   "metadata": {},
   "outputs": [
    {
     "name": "stdout",
     "output_type": "stream",
     "text": [
      "xh가중치 또는 hh가중치: Parameter containing:\n",
      "tensor([[2., 2.],\n",
      "        [2., 2.],\n",
      "        [2., 2.],\n",
      "        [2., 2.]], requires_grad=True)\n",
      "xh가중치 또는 hh가중치: Parameter containing:\n",
      "tensor([[2., 2., 2., 2.],\n",
      "        [2., 2., 2., 2.],\n",
      "        [2., 2., 2., 2.],\n",
      "        [2., 2., 2., 2.]], requires_grad=True)\n",
      "xh가중치 또는 hh가중치: Parameter containing:\n",
      "tensor([[2., 2.],\n",
      "        [2., 2.],\n",
      "        [2., 2.],\n",
      "        [2., 2.]], requires_grad=True)\n",
      "xh가중치 또는 hh가중치: Parameter containing:\n",
      "tensor([[2., 2., 2., 2.],\n",
      "        [2., 2., 2., 2.],\n",
      "        [2., 2., 2., 2.],\n",
      "        [2., 2., 2., 2.]], requires_grad=True)\n",
      "초기 hidden 값: tensor([[[2., 2., 2., 2.]],\n",
      "\n",
      "        [[2., 2., 2., 2.]]])\n",
      "torch.Size([1, 5, 8])\n",
      "torch.Size([2, 1, 4])\n"
     ]
    }
   ],
   "source": [
    "import torch\n",
    "from torch import nn\n",
    "\n",
    "\n",
    "input_size = 2\n",
    "ouput_size = 4\n",
    "num_layers = 1\n",
    "bidirectional = True\n",
    "\n",
    "model = nn.RNN(\n",
    "    input_size=input_size,\n",
    "    hidden_size=ouput_size,\n",
    "    num_layers=num_layers,\n",
    "    nonlinearity=\"relu\",\n",
    "    batch_first=True,\n",
    "    bidirectional=bidirectional,\n",
    "    bias=False\n",
    ")\n",
    "c=1\n",
    "for name, param in model.named_parameters():\n",
    "    if 'weight' in name:\n",
    "        nn.init.constant_(param, 2.0)\n",
    "        print('xh가중치 또는 hh가중치:',param)\n",
    "        #가중치를 조절한 다음 입력과 은닉값의 데이터를 가중치와 행렬곱이 아닌 벡터곱을해 버린다음 안의 값을 다 더해 차원을 맞춰서 더한다.\n",
    "        #와 대가리 터진다.\n",
    "        \n",
    "\n",
    "batch_size = 1\n",
    "sequence_len =5\n",
    "\n",
    "inputs = torch.Tensor( batch_size,sequence_len, input_size).fill_(2)\n",
    "h_0 = torch.Tensor(num_layers * (int(bidirectional) + 1), batch_size, ouput_size).fill_(2)\n",
    "print('초기 hidden 값:',h_0)\n",
    "outputs, hidden = model(inputs, h_0)\n",
    "print(outputs.shape)\n",
    "print(hidden.shape)"
   ]
  },
  {
   "cell_type": "code",
   "execution_count": 24,
   "metadata": {},
   "outputs": [
    {
     "name": "stdout",
     "output_type": "stream",
     "text": [
      "tensor([[[2., 2.],\n",
      "         [2., 2.],\n",
      "         [2., 2.],\n",
      "         [2., 2.],\n",
      "         [2., 2.]]])\n"
     ]
    }
   ],
   "source": [
    "\n",
    "print(inputs) #배치크기 시퀀스 크기 데이터 크기\n"
   ]
  },
  {
   "cell_type": "code",
   "execution_count": 25,
   "metadata": {},
   "outputs": [
    {
     "name": "stdout",
     "output_type": "stream",
     "text": [
      "tensor([[[2.4000e+01, 2.4000e+01, 2.4000e+01, 2.4000e+01, 1.0298e+05,\n",
      "          1.0298e+05, 1.0298e+05, 1.0298e+05],\n",
      "         [2.0000e+02, 2.0000e+02, 2.0000e+02, 2.0000e+02, 1.2872e+04,\n",
      "          1.2872e+04, 1.2872e+04, 1.2872e+04],\n",
      "         [1.6080e+03, 1.6080e+03, 1.6080e+03, 1.6080e+03, 1.6080e+03,\n",
      "          1.6080e+03, 1.6080e+03, 1.6080e+03],\n",
      "         [1.2872e+04, 1.2872e+04, 1.2872e+04, 1.2872e+04, 2.0000e+02,\n",
      "          2.0000e+02, 2.0000e+02, 2.0000e+02],\n",
      "         [1.0298e+05, 1.0298e+05, 1.0298e+05, 1.0298e+05, 2.4000e+01,\n",
      "          2.4000e+01, 2.4000e+01, 2.4000e+01]]], grad_fn=<TransposeBackward1>)\n"
     ]
    }
   ],
   "source": [
    "print(outputs)#배치크기 은닉상태 크기 시퀀스길이 "
   ]
  },
  {
   "cell_type": "code",
   "execution_count": 26,
   "metadata": {},
   "outputs": [
    {
     "name": "stdout",
     "output_type": "stream",
     "text": [
      "tensor([[[102984., 102984., 102984., 102984.]],\n",
      "\n",
      "        [[102984., 102984., 102984., 102984.]]], grad_fn=<StackBackward0>)\n"
     ]
    }
   ],
   "source": [
    "print(hidden)"
   ]
  },
  {
   "cell_type": "code",
   "execution_count": null,
   "metadata": {},
   "outputs": [],
   "source": [
    "#텐서 연산 및 차원 조작\n",
    "#참고로 텐서의 자료형이 다르면 연산이 불가능하다.\n",
    "\n",
    "v=torch.tensor([[2,2,2,2],\n",
    "                [2,2,2,2],\n",
    "                [2,2,2,2],\n",
    "                [2,2,2,2]])\n",
    "\n",
    "w=torch.tensor([[2,2,2,2]])\n",
    "print(v*w)#벡터 \n",
    "\n",
    "for i in v*w:\n",
    "    print(i.sum(),end=' ')\n",
    "print('\\n')\n",
    "v1=torch.tensor([[2,2],\n",
    "                [2,2],\n",
    "                [2,2],\n",
    "                [2,2]])\n",
    "\n",
    "w1=torch.tensor([[2,2]])\n",
    "\n",
    "print(v1*w1)\n",
    "\n",
    "for i in v1*w1:\n",
    "    print(i.sum(),end=' ')\n",
    "print('')\n",
    "\n",
    "#출력된 두 텐서들을 더하면 결국 (24,24,24,24)가 된다."
   ]
  }
 ],
 "metadata": {
  "kernelspec": {
   "display_name": "base",
   "language": "python",
   "name": "python3"
  },
  "language_info": {
   "codemirror_mode": {
    "name": "ipython",
    "version": 3
   },
   "file_extension": ".py",
   "mimetype": "text/x-python",
   "name": "python",
   "nbconvert_exporter": "python",
   "pygments_lexer": "ipython3",
   "version": "3.11.5"
  }
 },
 "nbformat": 4,
 "nbformat_minor": 2
}
