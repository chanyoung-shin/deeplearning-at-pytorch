{
 "cells": [
  {
   "cell_type": "code",
   "execution_count": 1,
   "metadata": {},
   "outputs": [],
   "source": [
    "import numpy as np\n",
    "import matplotlib.pyplot as plt\n",
    "import torch#텐서 등의 다양한 수학 함수가 포함된 라이브러리\n",
    "import torch.nn as nn #신경망 구축을 위한 데이터 구조나 레이어 등의 라이브러리\n",
    "from torch.autograd import Variable #자동 미분 기능을 제공하는 라이브러리\n",
    "import torch.nn.functional as F\n",
    "import torchvision\n",
    "import torchvision.transforms as transforms#데이터 전처리를 위한 라이브러리\n",
    "from torch.utils.data import Dataset,DataLoader#데이터 조작 등 유틸리티 기능 제공"
   ]
  },
  {
   "cell_type": "code",
   "execution_count": 2,
   "metadata": {},
   "outputs": [
    {
     "name": "stdout",
     "output_type": "stream",
     "text": [
      "True\n"
     ]
    }
   ],
   "source": [
    "device = torch.device(\"cuda:0\")\n",
    "print(torch.cuda.is_available())"
   ]
  },
  {
   "cell_type": "code",
   "execution_count": 3,
   "metadata": {},
   "outputs": [
    {
     "name": "stdout",
     "output_type": "stream",
     "text": [
      "Downloading http://fashion-mnist.s3-website.eu-central-1.amazonaws.com/train-images-idx3-ubyte.gz\n",
      "Downloading http://fashion-mnist.s3-website.eu-central-1.amazonaws.com/train-images-idx3-ubyte.gz to ./FashionMNIST\\raw\\train-images-idx3-ubyte.gz\n"
     ]
    },
    {
     "name": "stderr",
     "output_type": "stream",
     "text": [
      "100%|██████████| 26421880/26421880 [00:08<00:00, 3055911.44it/s]\n"
     ]
    },
    {
     "name": "stdout",
     "output_type": "stream",
     "text": [
      "Extracting ./FashionMNIST\\raw\\train-images-idx3-ubyte.gz to ./FashionMNIST\\raw\n",
      "\n",
      "Downloading http://fashion-mnist.s3-website.eu-central-1.amazonaws.com/train-labels-idx1-ubyte.gz\n",
      "Downloading http://fashion-mnist.s3-website.eu-central-1.amazonaws.com/train-labels-idx1-ubyte.gz to ./FashionMNIST\\raw\\train-labels-idx1-ubyte.gz\n"
     ]
    },
    {
     "name": "stderr",
     "output_type": "stream",
     "text": [
      "100%|██████████| 29515/29515 [00:00<00:00, 101752.45it/s]\n"
     ]
    },
    {
     "name": "stdout",
     "output_type": "stream",
     "text": [
      "Extracting ./FashionMNIST\\raw\\train-labels-idx1-ubyte.gz to ./FashionMNIST\\raw\n",
      "\n",
      "Downloading http://fashion-mnist.s3-website.eu-central-1.amazonaws.com/t10k-images-idx3-ubyte.gz\n",
      "Downloading http://fashion-mnist.s3-website.eu-central-1.amazonaws.com/t10k-images-idx3-ubyte.gz to ./FashionMNIST\\raw\\t10k-images-idx3-ubyte.gz\n"
     ]
    },
    {
     "name": "stderr",
     "output_type": "stream",
     "text": [
      "100%|██████████| 4422102/4422102 [00:03<00:00, 1393320.29it/s]\n"
     ]
    },
    {
     "name": "stdout",
     "output_type": "stream",
     "text": [
      "Extracting ./FashionMNIST\\raw\\t10k-images-idx3-ubyte.gz to ./FashionMNIST\\raw\n",
      "\n",
      "Downloading http://fashion-mnist.s3-website.eu-central-1.amazonaws.com/t10k-labels-idx1-ubyte.gz\n",
      "Downloading http://fashion-mnist.s3-website.eu-central-1.amazonaws.com/t10k-labels-idx1-ubyte.gz to ./FashionMNIST\\raw\\t10k-labels-idx1-ubyte.gz\n"
     ]
    },
    {
     "name": "stderr",
     "output_type": "stream",
     "text": [
      "100%|██████████| 5148/5148 [00:00<?, ?it/s]"
     ]
    },
    {
     "name": "stdout",
     "output_type": "stream",
     "text": [
      "Extracting ./FashionMNIST\\raw\\t10k-labels-idx1-ubyte.gz to ./FashionMNIST\\raw\n",
      "\n"
     ]
    },
    {
     "name": "stderr",
     "output_type": "stream",
     "text": [
      "\n"
     ]
    }
   ],
   "source": [
    "train_dataset=torchvision.datasets.FashionMNIST(\"./\",download=True,transform=transforms.Compose([transforms.ToTensor()]))\n",
    "#저공간에다 패션 데이터셋 을 다운 받겠다는 의미 또한 다운받은 이미지 데이터를 텐서로 변환\n",
    "#파라미터\n",
    "#첮번쨰 경로는 데이터를 내려받을 위치\n",
    "#download-트루로 변경ㅎ라면 첫번째 파라미터 위치에 해당 데이터셋이 있는지 확인후 내려받음\n",
    "#transform:이미지를 텐서로 변환"
   ]
  },
  {
   "cell_type": "code",
   "execution_count": 4,
   "metadata": {},
   "outputs": [
    {
     "name": "stdout",
     "output_type": "stream",
     "text": [
      "60000\n"
     ]
    }
   ],
   "source": [
    "print(len(train_dataset))"
   ]
  },
  {
   "cell_type": "code",
   "execution_count": 5,
   "metadata": {},
   "outputs": [],
   "source": [
    "test_dataset=torchvision.datasets.FashionMNIST(\"./\",train=False,download=True,transform=transforms.Compose([transforms.ToTensor()]))"
   ]
  },
  {
   "cell_type": "code",
   "execution_count": 6,
   "metadata": {},
   "outputs": [
    {
     "name": "stdout",
     "output_type": "stream",
     "text": [
      "Dataset FashionMNIST\n",
      "    Number of datapoints: 10000\n",
      "    Root location: ./\n",
      "    Split: Test\n",
      "    StandardTransform\n",
      "Transform: Compose(\n",
      "               ToTensor()\n",
      "           )\n"
     ]
    }
   ],
   "source": [
    "print(test_dataset)"
   ]
  },
  {
   "cell_type": "markdown",
   "metadata": {},
   "source": [
    "패션 데이터를 데이터 로더에 전달"
   ]
  },
  {
   "cell_type": "code",
   "execution_count": 7,
   "metadata": {},
   "outputs": [],
   "source": [
    "train_loader=torch.utils.data.DataLoader(train_dataset,batch_size=100)\n",
    "#이 메소드를 사용하여 원하는 크기의 배치 단위로 데이터를 불러오거나 순서가\n",
    "#무작위로 섞이도록 할 수 있다.\n",
    "#파라미터: train_dataset-데이터를 불러올 데이텃셋 지정,batch_size-얼마 만큼 묶어서 데이터를 불러올지 정함\n",
    "test_loader=torch.utils.data.DataLoader(test_dataset,batch_size=100)"
   ]
  },
  {
   "cell_type": "code",
   "execution_count": 8,
   "metadata": {},
   "outputs": [
    {
     "name": "stdout",
     "output_type": "stream",
     "text": [
      "600\n"
     ]
    }
   ],
   "source": [
    "print(len(train_loader))"
   ]
  },
  {
   "cell_type": "markdown",
   "metadata": {},
   "source": [
    "분류에 사용될 클래스 정의"
   ]
  },
  {
   "cell_type": "code",
   "execution_count": 9,
   "metadata": {},
   "outputs": [
    {
     "data": {
      "image/png": "[encoded data removed]",
      "text/plain": [
       "<Figure size 800x800 with 20 Axes>"
      ]
     },
     "metadata": {},
     "output_type": "display_data"
    }
   ],
   "source": [
    "labels_map = {0 : 'T-Shirt', 1 : 'Trouser', 2 : 'Pullover', 3 : 'Dress', 4 : 'Coat', 5 : 'Sandal', 6 : 'Shirt',\n",
    "              7 : 'Sneaker', 8 : 'Bag', 9 : 'Ankle Boot'}\n",
    "\n",
    "fig = plt.figure(figsize=(8,8))\n",
    "columns = 4\n",
    "rows = 5\n",
    "for i in range(1, columns*rows +1):\n",
    "    img_xy = np.random.randint(len(train_dataset));\n",
    "    img = train_dataset[img_xy][0][0,:,:]\n",
    "    fig.add_subplot(rows, columns, i)\n",
    "    plt.title(labels_map[train_dataset[img_xy][1]])\n",
    "    plt.axis('off')\n",
    "    plt.imshow(img,)\n",
    "plt.show()\n",
    "#랜덤으로 이미지 출력"
   ]
  },
  {
   "cell_type": "markdown",
   "metadata": {},
   "source": [
    "심층 신경망 모델 생성"
   ]
  },
  {
   "cell_type": "code",
   "execution_count": 9,
   "metadata": {},
   "outputs": [],
   "source": [
    "class FashionDNN(nn.Module): #클래스 형태의 모델은 항상 nn.Module를 상속받는다.\n",
    "    def __init__(self): #__init__()은 객체가 갖는 속성 값을 초기화 하는 역할을 하며 객테가 생성될때 자동으로 호출된다.\n",
    "        super(FashionDNN,self).__init__()#이코드는 FashionDNN이라는 부모 클래스를 상속 받겠다는 의미로 이해하면된다.\n",
    "        self.fc1=nn.Sequential(\n",
    "            nn.Linear(in_features=784,out_features=256),\n",
    "            nn.ReLU())\n",
    "        self.drop=nn.Dropout(0.25)#25%의 비율로 텐서의 값이 0이되고 0이 되지 않는 값들은 기존 값에(1/1-0.25)만큼 곱해져 커짐\n",
    "        self.fc2=nn.Sequential(\n",
    "            nn.Linear(in_features=256,out_features=128),\n",
    "            nn.ReLU())\n",
    "        self.fc3=nn.Linear(in_features=128,out_features=10)\n",
    "    def forward(self,input_data):#모델이 학습 데이터를 입력받아 순전파 학습을 진행시키는 함수이다.\n",
    "        out= input_data.view(-1,784)#데이터를 길게 늘림\n",
    "        out=self.fc1(out)#활성화 함수를 지정함\n",
    "        out=self.drop(out)\n",
    "        out=self.fc2(out)\n",
    "        out=self.fc3(out)\n",
    "        return(out)\n",
    "    \n",
    "    #활성화 함수는 두가지 방법으로 지정히 가능하다 F.relu():forward()함수에서 정의\n",
    "    #                                          nn.relu():__init__()함수에서 정의"
   ]
  },
  {
   "cell_type": "markdown",
   "metadata": {},
   "source": [
    "심층 신경망에 필요한 파라미터 정의"
   ]
  },
  {
   "cell_type": "code",
   "execution_count": 10,
   "metadata": {},
   "outputs": [
    {
     "name": "stdout",
     "output_type": "stream",
     "text": [
      "FashionDNN(\n",
      "  (fc1): Sequential(\n",
      "    (0): Linear(in_features=784, out_features=256, bias=True)\n",
      "    (1): ReLU()\n",
      "  )\n",
      "  (drop): Dropout(p=0.25, inplace=False)\n",
      "  (fc2): Sequential(\n",
      "    (0): Linear(in_features=256, out_features=128, bias=True)\n",
      "    (1): ReLU()\n",
      "  )\n",
      "  (fc3): Linear(in_features=128, out_features=10, bias=True)\n",
      ")\n"
     ]
    }
   ],
   "source": [
    "learning_rate=0.001\n",
    "model=FashionDNN()\n",
    "model.to(device)\n",
    "criterion=nn.CrossEntropyLoss()#손실 함수 정의\n",
    "optimizer=torch.optim.Adam(model.parameters(),lr=learning_rate)\n",
    "#옵티마이저를 위한 경사하강법의로 아담지정, 학습률 지정\n",
    "print(model)"
   ]
  },
  {
   "cell_type": "code",
   "execution_count": 11,
   "metadata": {},
   "outputs": [
    {
     "name": "stdout",
     "output_type": "stream",
     "text": [
      "Iteration: 500, Loss: 0.5826607942581177, Accuracy: 83.44999694824219%\n",
      "Iteration: 1000, Loss: 0.4535296559333801, Accuracy: 84.61000061035156%\n",
      "Iteration: 1500, Loss: 0.3684860169887543, Accuracy: 84.1500015258789%\n",
      "Iteration: 2000, Loss: 0.4103727340698242, Accuracy: 85.56999969482422%\n",
      "Iteration: 2500, Loss: 0.25931504368782043, Accuracy: 86.54000091552734%\n",
      "Iteration: 3000, Loss: 0.3020419478416443, Accuracy: 86.5%\n"
     ]
    }
   ],
   "source": [
    "num_epochs = 5\n",
    "count = 0\n",
    "loss_list = []\n",
    "iteration_list = []\n",
    "accuracy_list = []\n",
    "\n",
    "predictions_list = []\n",
    "labels_list = []\n",
    "\n",
    "for epoch in range(num_epochs):\n",
    "    for images, labels in train_loader:\n",
    "        images, labels = images.to(device), labels.to(device)#GPU로 데이터 처리함 why? 모델이 GPU로 처리되어서\n",
    "    \n",
    "        train = Variable(images.view(100, 1, 28, 28))\n",
    "        labels = Variable(labels)\n",
    "        #자동미분(역전파를 위해, 근데 굳이 안해도 된다.)\n",
    "        outputs = model(train)\n",
    "        #순전파\n",
    "        loss = criterion(outputs, labels)\n",
    "        #손실함수에다 정답하고 예측값을 보냄\n",
    "        optimizer.zero_grad()\n",
    "        #가중치 초기화\n",
    "        loss.backward()\n",
    "        #역전파\n",
    "        optimizer.step()\n",
    "        #파라미터 업데이트\n",
    "        count += 1\n",
    "        #얼마나 반복했는지 세기 위헤\n",
    "        if not (count % 50):#50번째 반복마다 실행    \n",
    "            total = 0\n",
    "            correct = 0        \n",
    "            for images, labels in test_loader:\n",
    "                images, labels = images.to(device), labels.to(device)\n",
    "                labels_list.append(labels)            \n",
    "                test = Variable(images.view(100, 1, 28, 28))            \n",
    "                outputs = model(test)            \n",
    "                predictions = torch.max(outputs, 1)[1].to(device)\n",
    "                #제일 확률이 높은 놈을 예측으로(분류 문제여서)\n",
    "                predictions_list.append(predictions)\n",
    "                correct += (predictions == labels).sum()            \n",
    "                total += len(labels)\n",
    "            \n",
    "            accuracy = correct * 100 / total\n",
    "            loss_list.append(loss.data)\n",
    "            iteration_list.append(count)\n",
    "            accuracy_list.append(accuracy)\n",
    "        \n",
    "        if not (count % 500):\n",
    "            print(\"Iteration: {}, Loss: {}, Accuracy: {}%\".format(count, loss.data, accuracy))"
   ]
  },
  {
   "cell_type": "markdown",
   "metadata": {},
   "source": [
    " 합성곱 네트쿼크 생성"
   ]
  },
  {
   "cell_type": "code",
   "execution_count": 12,
   "metadata": {},
   "outputs": [],
   "source": [
    "class FashionCNN(nn.Module):\n",
    "    def __init__(self):\n",
    "        super(FashionCNN,self).__init__()#uper()로 기반 클래스(부모 클래스)를 초기화해줌으로써, 기반 클래스의 속성을 subclass가 받아오도록 한다. (초기화를 하지 않으면, 부모 클래스의 속성을 사용할 수 없음)\n",
    "        self.layer1=nn.Sequential(#일종의 컨테이터 역할로 신경망을 가독성이 좋은 형태로 표현한다.\n",
    "            nn.Conv2d(in_channels=1,out_channels=32,kernel_size=3,padding=1),\n",
    "            #합성곱 층이다. 파라미터는 입력 채널의 수( RGB라면 3), 출력 커널수, 커널 사이지, 패딩이다.\n",
    "            nn.BatchNorm2d(32),\n",
    "            #각 배치별로 데이터가 다양한 형태를 가지더라도 평균과 분산을 이용하여\n",
    "            #정규화한다. 즉 분포를 가우시안 형태로 만들어 평균은 0 표준편차는 1로 데이터 분포가 조정된다.\n",
    "            #참고로 안의 숫자는 데이터 채널의 개수이다.\n",
    "            nn.ReLU(),\n",
    "            #활성화 함수\n",
    "            nn.MaxPool2d(kernel_size=2,stride=2)\n",
    "            #이미지를 축소시키는 용도로 사용한다. 참고로 최대 풀링이다.\n",
    "        )\n",
    "        self.layer2=nn.Sequential(\n",
    "\n",
    "            nn.Conv2d(in_channels=32,out_channels=64,kernel_size=3),#합성곱\n",
    "            nn.BatchNorm2d(64),#정규화\n",
    "            nn.ReLU(),#활성화 함수\n",
    "            nn.MaxPool2d(2)#풀링\n",
    "        )\n",
    "        #합성곱 계층에서 출력을 크기를 구하는 공식은 다음과 같다.\n",
    "        #(입력데이터의 크기-커널크기+2*패딩크기)/(스트라이드)+1\n",
    "        #만약에 n,m의 이미지라면 각각의 공식에 대입하면된다.\n",
    "        #최대 풀링 계층에서 출력크기를 구하는 공식은 다음과 같다.\n",
    "        #출력 크기=입력 필터의 크기/커널크기\n",
    "        #레이어 1의 합성곱 출력크기=(28-3+2)/1+1=28\n",
    "        #레이어 1의 최대풀링 출력크기=14\n",
    "        #레이어 2의 합성곱 출력크기=(14-3)/1+1=12\n",
    "        #레이어 2의 최대풀링 출력크기=12/2=6\n",
    "        self.fc1=nn.Linear(in_features=64*6*6,out_features=600)\n",
    "        self.drop=nn.Dropout2d(0.25)\n",
    "        self.fc2=nn.Linear(in_features=600,out_features=120)\n",
    "        self.fc3=nn.Linear(in_features=120,out_features=10)\n",
    "    def forward(self,x):\n",
    "        out=self.layer1(x)\n",
    "        out=self.layer2(out)\n",
    "        out=out.view(out.size(0),-1)\n",
    "        out=self.fc1(out)\n",
    "        out=self.drop(out)\n",
    "        out=self.fc2(out)\n",
    "        out=self.fc3(out)\n",
    "        return out\n",
    "\n"
   ]
  },
  {
   "cell_type": "markdown",
   "metadata": {},
   "source": [
    "합성곱 네트워크를 위한 파라미터 정의"
   ]
  },
  {
   "cell_type": "code",
   "execution_count": 13,
   "metadata": {},
   "outputs": [
    {
     "name": "stdout",
     "output_type": "stream",
     "text": [
      "FashionCNN(\n",
      "  (layer1): Sequential(\n",
      "    (0): Conv2d(1, 32, kernel_size=(3, 3), stride=(1, 1), padding=(1, 1))\n",
      "    (1): BatchNorm2d(32, eps=1e-05, momentum=0.1, affine=True, track_running_stats=True)\n",
      "    (2): ReLU()\n",
      "    (3): MaxPool2d(kernel_size=2, stride=2, padding=0, dilation=1, ceil_mode=False)\n",
      "  )\n",
      "  (layer2): Sequential(\n",
      "    (0): Conv2d(32, 64, kernel_size=(3, 3), stride=(1, 1))\n",
      "    (1): BatchNorm2d(64, eps=1e-05, momentum=0.1, affine=True, track_running_stats=True)\n",
      "    (2): ReLU()\n",
      "    (3): MaxPool2d(kernel_size=2, stride=2, padding=0, dilation=1, ceil_mode=False)\n",
      "  )\n",
      "  (fc1): Linear(in_features=2304, out_features=600, bias=True)\n",
      "  (drop): Dropout2d(p=0.25, inplace=False)\n",
      "  (fc2): Linear(in_features=600, out_features=120, bias=True)\n",
      "  (fc3): Linear(in_features=120, out_features=10, bias=True)\n",
      ")\n"
     ]
    }
   ],
   "source": [
    "learning_rate=0.0001\n",
    "model=FashionCNN()\n",
    "model.to(device)#모델을 gpu에서 처리\n",
    "criterion=nn.CrossEntropyLoss()\n",
    "optimizer=torch.optim.Adam(model.parameters(),lr=learning_rate)\n",
    "print(model)"
   ]
  },
  {
   "cell_type": "code",
   "execution_count": 14,
   "metadata": {},
   "outputs": [
    {
     "name": "stderr",
     "output_type": "stream",
     "text": [
      "c:\\Users\\user\\anaconda3\\Lib\\site-packages\\torch\\nn\\functional.py:1347: UserWarning: dropout2d: Received a 2-D input to dropout2d, which is deprecated and will result in an error in a future release. To retain the behavior and silence this warning, please use dropout instead. Note that dropout2d exists to provide channel-wise dropout on inputs with 2 spatial dimensions, a channel dimension, and an optional batch dimension (i.e. 3D or 4D inputs).\n",
      "  warnings.warn(warn_msg)\n"
     ]
    },
    {
     "name": "stdout",
     "output_type": "stream",
     "text": [
      "iteration:500, Loss:0.487280, Accuracy:87.329994\n",
      "iteration:1000, Loss:0.314182, Accuracy:88.949997\n",
      "iteration:1500, Loss:0.269122, Accuracy:88.540001\n",
      "iteration:2000, Loss:0.219305, Accuracy:89.690002\n",
      "iteration:2500, Loss:0.198764, Accuracy:90.160004\n",
      "iteration:3000, Loss:0.189632, Accuracy:89.440002\n"
     ]
    }
   ],
   "source": [
    "num_epochs=5\n",
    "count=0\n",
    "loss_list=[]\n",
    "iteration_list=[]\n",
    "accuracy_list=[]\n",
    "predictions_list=[]\n",
    "labels_list=[]\n",
    "for epoch in range(num_epochs):\n",
    "    for images,labels in train_loader:\n",
    "        images,labels= images.to(device),labels.to(device)\n",
    "        train=Variable(images.view(100,1,28,28))\n",
    "        labels=Variable(labels)\n",
    "        outputs=model(train)\n",
    "        loss=criterion(outputs,labels)\n",
    "        optimizer.zero_grad()\n",
    "        loss.backward()\n",
    "        optimizer.step()\n",
    "        count+=1\n",
    "        if (count%50==0):\n",
    "            total=0\n",
    "            correct=0\n",
    "            for images,labels in test_loader:\n",
    "                images,labels=images.to(device),labels.to(device)\n",
    "                test=Variable(images.view(100,1,28,28))\n",
    "                outputs=model(test)\n",
    "                predictions=torch.max(outputs.data,1)[1].to(device)\n",
    "                predictions_list.append(predictions)\n",
    "                correct+=(predictions==labels).sum()\n",
    "                total+=len(labels)\n",
    "            accuracy=correct/total*100\n",
    "            loss_list.append(loss.data)\n",
    "            iteration_list.append(count)\n",
    "            accuracy_list.append(accuracy)\n",
    "        if(count%500==0):\n",
    "            print(\"iteration:%d, Loss:%f, Accuracy:%f\"%(count,loss.data,accuracy))"
   ]
  }
 ],
 "metadata": {
  "kernelspec": {
   "display_name": "base",
   "language": "python",
   "name": "python3"
  },
  "language_info": {
   "codemirror_mode": {
    "name": "ipython",
    "version": 3
   },
   "file_extension": ".py",
   "mimetype": "text/x-python",
   "name": "python",
   "nbconvert_exporter": "python",
   "pygments_lexer": "ipython3",
   "version": "3.11.5"
  }
 },
 "nbformat": 4,
 "nbformat_minor": 2
}
