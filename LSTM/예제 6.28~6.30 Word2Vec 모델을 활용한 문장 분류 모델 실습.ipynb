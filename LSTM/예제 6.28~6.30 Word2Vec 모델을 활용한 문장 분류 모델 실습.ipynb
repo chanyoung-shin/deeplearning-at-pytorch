{
 "cells": [
  {
   "cell_type": "code",
   "execution_count": 1,
   "id": "c0a3de32-698c-41c0-bf6e-4899cee38f8f",
   "metadata": {},
   "outputs": [],
   "source": [
    "import torch\n",
    "from torch import nn\n",
    "\n",
    "\n",
    "class SentenceClassifier(nn.Module):\n",
    "    def __init__(\n",
    "        self,\n",
    "        n_vocab,#단어 사전의 크기\n",
    "        hidden_dim,# 은닉차원\n",
    "        embedding_dim,#임베딩 차원\n",
    "        n_layers,#신경망의 층\n",
    "        dropout=0.5,#드롭아웃 비율\n",
    "        bidirectional=True,#양방향 설정\n",
    "        model_type=\"lstm\",#모델은 lstm\n",
    "        pretrained_embedding=None#이미 임베딩이 있는지 확인\n",
    "    ):\n",
    "        super().__init__()#상속받은 클래스의 init호출\n",
    "        if pretrained_embedding is not None:#만약 이미 학습된 임베딩 모델이 있다면 이미 학습된 임베딩 모델을 쓰겠다는 뜻\n",
    "            self.embedding = nn.Embedding.from_pretrained(\n",
    "                torch.tensor(pretrained_embedding, dtype=torch.float32)\n",
    "            )\n",
    "        else:#없다면 파이토치 임베딩 레이어 사용\n",
    "            self.embedding = nn.Embedding(\n",
    "                num_embeddings=n_vocab,\n",
    "                embedding_dim=embedding_dim,\n",
    "                padding_idx=0\n",
    "            )\n",
    "        \n",
    "        if model_type == \"rnn\":\n",
    "            self.model = nn.RNN(\n",
    "                input_size=embedding_dim,\n",
    "                hidden_size=hidden_dim,\n",
    "                num_layers=n_layers,\n",
    "                bidirectional=bidirectional,\n",
    "                dropout=dropout,\n",
    "                batch_first=True,\n",
    "            )\n",
    "        elif model_type == \"lstm\":\n",
    "            self.model = nn.LSTM(\n",
    "                input_size=embedding_dim,\n",
    "                hidden_size=hidden_dim,\n",
    "                num_layers=n_layers,\n",
    "                bidirectional=bidirectional,\n",
    "                dropout=dropout,\n",
    "                batch_first=True,\n",
    "            )\n",
    "\n",
    "        if bidirectional:\n",
    "            self.classifier = nn.Linear(hidden_dim * 2, 1)\n",
    "        else:\n",
    "            self.classifier = nn.Linear(hidden_dim, 1)\n",
    "        self.dropout = nn.Dropout(dropout)\n",
    "\n",
    "    def forward(self, inputs):\n",
    "        embeddings = self.embedding(inputs)\n",
    "        output, _ = self.model(embeddings)\n",
    "        last_output = output[:, -1, :]\n",
    "        last_output = self.dropout(last_output)\n",
    "        logits = self.classifier(last_output)\n",
    "        return logits"
   ]
  },
  {
   "cell_type": "code",
   "execution_count": 3,
   "id": "c5f61d2a-a53b-4e37-b118-927bb59d346b",
   "metadata": {},
   "outputs": [
    {
     "name": "stdout",
     "output_type": "stream",
     "text": [
      "\n",
      "    Korpora 는 다른 분들이 연구 목적으로 공유해주신 말뭉치들을\n",
      "    손쉽게 다운로드, 사용할 수 있는 기능만을 제공합니다.\n",
      "\n",
      "    말뭉치들을 공유해 주신 분들에게 감사드리며, 각 말뭉치 별 설명과 라이센스를 공유 드립니다.\n",
      "    해당 말뭉치에 대해 자세히 알고 싶으신 분은 아래의 description 을 참고,\n",
      "    해당 말뭉치를 연구/상용의 목적으로 이용하실 때에는 아래의 라이센스를 참고해 주시기 바랍니다.\n",
      "\n",
      "    # Description\n",
      "    Author : e9t@github\n",
      "    Repository : https://github.com/e9t/nsmc\n",
      "    References : www.lucypark.kr/docs/2015-pyconkr/#39\n",
      "\n",
      "    Naver sentiment movie corpus v1.0\n",
      "    This is a movie review dataset in the Korean language.\n",
      "    Reviews were scraped from Naver Movies.\n",
      "\n",
      "    The dataset construction is based on the method noted in\n",
      "    [Large movie review dataset][^1] from Maas et al., 2011.\n",
      "\n",
      "    [^1]: http://ai.stanford.edu/~amaas/data/sentiment/\n",
      "\n",
      "    # License\n",
      "    CC0 1.0 Universal (CC0 1.0) Public Domain Dedication\n",
      "    Details in https://creativecommons.org/publicdomain/zero/1.0/\n",
      "\n"
     ]
    },
    {
     "name": "stderr",
     "output_type": "stream",
     "text": [
      "[nsmc] download ratings_train.txt: 14.6MB [00:02, 7.14MB/s]                            \n",
      "[nsmc] download ratings_test.txt: 4.90MB [00:01, 4.05MB/s]                            \n"
     ]
    }
   ],
   "source": [
    "import pandas as pd\n",
    "from Korpora import Korpora\n",
    "\n",
    "\n",
    "corpus = Korpora.load(\"nsmc\")\n",
    "corpus_df = pd.DataFrame(corpus.test)"
   ]
  },
  {
   "cell_type": "code",
   "execution_count": 6,
   "id": "2ee1bb90",
   "metadata": {},
   "outputs": [
    {
     "name": "stdout",
     "output_type": "stream",
     "text": [
      "Index([33553,  9427,   199, 12447, 39489, 42724, 10822, 49498,  4144, 36958,\n",
      "       ...\n",
      "        5232, 30453, 45641, 30257, 35595, 22164, 44594,  4996,  3262,  6838],\n",
      "      dtype='int64', length=45000)\n",
      "|       | text                                                                                     |   label |\n",
      "|------:|:-----------------------------------------------------------------------------------------|--------:|\n",
      "| 33553 | 모든 편견을 날려 버리는 가슴 따뜻한 영화. 로버트 드 니로, 필립 세이모어 호프만 영원하라. |       1 |\n",
      "|  9427 | 무한 리메이크의 소재. 감독의 역량은 항상 그 자리에...                                    |       0 |\n",
      "|   199 | 신날 것 없는 애니.                                                                       |       0 |\n",
      "| 12447 | 잔잔 격동                                                                                |       1 |\n",
      "| 39489 | 오랜만에 찾은 주말의 명화의 보석                                                         |       1 |\n",
      "Training Data Size : 45000\n",
      "Testing Data Size : 5000\n"
     ]
    }
   ],
   "source": [
    "train = corpus_df.sample(frac=0.9, random_state=42)#샘플 수에 0.9만큼의 비율을 가져옴\n",
    "test = corpus_df.drop(train.index)#train의 인덱스를 제외한거를 가져옴\n",
    "print(train.head(5).to_markdown())#맨앞에 5개의 정보만 가져오겠다.\n",
    "print(\"Training Data Size :\", len(train))\n",
    "print(\"Testing Data Size :\", len(test))"
   ]
  },
  {
   "cell_type": "code",
   "execution_count": 7,
   "id": "bf9cffa5-5e60-47cf-bb4e-73815ed235ed",
   "metadata": {},
   "outputs": [
    {
     "name": "stdout",
     "output_type": "stream",
     "text": [
      "[['모든', '편견', '을', '날려', '버리는', '가슴', '따뜻한', '영화', '.', '로버트', '드', '니', '로', ',', '필립', '세이모어', '호프만', '영원하라', '.'], ['무한', '리메이크', '의', '소재', '.', '감독', '의', '역량', '은', '항상', '그', '자리', '에', '...'], ['신날', '것', '없는', '애니', '.'], ['잔잔', '격동'], ['오랜', '만', '에', '찾은', '주말', '의', '명화', '의', '보석'], ['영화', '공사', '중', '도로', '를', '보았는데', '에어컨', '을', '..', '정말', '더웠다', '.', '하지만', '더글라스', '오빠', '연기', '압권'], ['재밌다', '.', '유쾌한', '노랫소리', '.', '주인공', '들', '의', '코믹', '한', '연기', '.', '굿굿'], ['음', '..', '괜찮네요', '.', '생각', '보다', '좋았어요'], ['\"\"\"', '21', '세기', '\"\"\"\"', '레', '니', '할', '린', ',', '작품', '은', '\"\"\"\"', '마인', '트', '헌터', ',', '뿐', '인가', '!?', '연출', '이', 'tv', '판', '수준', '!\"\"\"'], ['이', '걸', '영화관', '에서', '보다니', '감동', '이었고', '관객', '이', '다', '들', '혼자', '온', '덕후', '들', '이라', '더욱', '감개', '무량', '했던', '순간', '이었습니다', '.', '바트', '넘', '멋져', '부러']]\n",
      "['<pad>', '<unk>', '.', '이', '영화', '의', '..', '가', '에', '...']\n",
      "5002\n"
     ]
    }
   ],
   "source": [
    "from konlpy.tag import Okt\n",
    "from collections import Counter\n",
    "#리스트나 딕셔너리에 특정 원소가 몇개 있는지 세줌\n",
    "\n",
    "def build_vocab(corpus, n_vocab, special_tokens):#단어 사전 구축\n",
    "    counter = Counter()\n",
    "    for tokens in corpus:\n",
    "        counter.update(tokens)# 추가된 리스트를 누적히여 셈\n",
    "    vocab = special_tokens\n",
    "    for token, count in counter.most_common(n_vocab):\n",
    "        vocab.append(token)\n",
    "    #가장 흔한 데이터 순으로 정렬 https://www.daleseo.com/python-collections-counter/ <--참고\n",
    "    return vocab\n",
    "\n",
    "\n",
    "tokenizer = Okt()\n",
    "train_tokens = [tokenizer.morphs(review) for review in train.text]\n",
    "test_tokens = [tokenizer.morphs(review) for review in test.text]\n",
    "#형태소로 토큰화\n",
    "print(train_tokens[:10])\n",
    "vocab = build_vocab(corpus=train_tokens, n_vocab=5000, special_tokens=[\"<pad>\", \"<unk>\"])\n",
    "#단어사전 구축\n",
    "token_to_id = {token: idx for idx, token in enumerate(vocab)}\n",
    "#토큰을 통해 인덱스를 찾아내는 딕셔너리 생성\n",
    "id_to_token = {idx: token for idx, token in enumerate(vocab)}\n",
    "#인덱스를 통해 토큰을 찾아내는 딕셔너리 생성\n",
    "\n",
    "print(vocab[:10])\n",
    "print(len(vocab))"
   ]
  },
  {
   "cell_type": "code",
   "execution_count": 9,
   "id": "f0a1c0ab-dd85-4f97-b013-c1e180141f83",
   "metadata": {},
   "outputs": [
    {
     "name": "stdout",
     "output_type": "stream",
     "text": [
      "1\n",
      "[ 223 1716   10 4036 2095  193  755    4    2 2330 1031  220   26   13\n",
      " 4839    1    1    1    2    0    0    0    0    0    0    0    0    0\n",
      "    0    0    0    0]\n",
      "[3307    5 1997  456    8    1 1013 3906    5    1    1   13  223   51\n",
      "    3    1 4684    6    0    0    0    0    0    0    0    0    0    0\n",
      "    0    0    0    0]\n"
     ]
    }
   ],
   "source": [
    "import numpy as np\n",
    "\n",
    "\n",
    "def pad_sequences(sequences, max_length, pad_value):\n",
    "    result = list()\n",
    "    for sequence in sequences:\n",
    "        sequence = sequence[:max_length]\n",
    "        pad_length = max_length - len(sequence)\n",
    "        padded_sequence = sequence + [pad_value] * pad_length\n",
    "        result.append(padded_sequence)\n",
    "    return np.asarray(result)\n",
    "#32의 길이를 맞추기 위해 패딩\n",
    "\n",
    "unk_id = token_to_id[\"<unk>\"]\n",
    "train_ids = [\n",
    "    [token_to_id.get(token, unk_id) for token in review] for review in train_tokens\n",
    "]\n",
    "#토큰 데이터의 토큰을 단어 사전의 인덱스로 반환 만약 단어사전에 없을시 unk의 인덱스 반환\n",
    "test_ids = [\n",
    "    [token_to_id.get(token, unk_id) for token in review] for review in test_tokens\n",
    "]\n",
    "#토큰 데이터의 토큰을 단어 사전의 인덱스로 반환 만약 단어사전에 없을시 unk의 인덱스 반환\n",
    "max_length = 32\n",
    "pad_id = token_to_id[\"<pad>\"]\n",
    "train_ids = pad_sequences(train_ids, max_length, pad_id)\n",
    "test_ids = pad_sequences(test_ids, max_length, pad_id)\n",
    "\n",
    "print(train_ids[0])\n",
    "print(test_ids[0])"
   ]
  },
  {
   "cell_type": "code",
   "execution_count": 10,
   "id": "e20b6525-cd9a-4d29-a116-05936a1e92ed",
   "metadata": {},
   "outputs": [
    {
     "name": "stdout",
     "output_type": "stream",
     "text": [
      "tensor([1., 0., 0.,  ..., 0., 1., 1.]) tensor([1., 1., 0.,  ..., 1., 1., 0.])\n"
     ]
    }
   ],
   "source": [
    "from torch.utils.data import TensorDataset, DataLoader\n",
    "\n",
    "\n",
    "train_ids = torch.tensor(train_ids)\n",
    "test_ids = torch.tensor(test_ids)\n",
    "#텐서로 변환\n",
    "train_labels = torch.tensor(train.label.values, dtype=torch.float32)\n",
    "test_labels = torch.tensor(test.label.values, dtype=torch.float32)\n",
    "print(train_labels,test_labels)\n",
    "#라벨 데이터 얻음\n",
    "train_dataset = TensorDataset(train_ids, train_labels)\n",
    "test_dataset = TensorDataset(test_ids, test_labels)\n",
    "#데이터 셋 설정\n",
    "train_loader = DataLoader(train_dataset, batch_size=16, shuffle=True)\n",
    "test_loader = DataLoader(test_dataset, batch_size=16, shuffle=False)\n",
    "#로더 설정"
   ]
  },
  {
   "cell_type": "code",
   "execution_count": 11,
   "id": "f13af291",
   "metadata": {},
   "outputs": [
    {
     "name": "stdout",
     "output_type": "stream",
     "text": [
      "5002\n"
     ]
    }
   ],
   "source": [
    "n_vocab = len(token_to_id)#5002\n",
    "hidden_dim = 64#은닉 상태 타원\n",
    "embedding_dim = 128#임베딩 차원\n",
    "n_layers = 2"
   ]
  },
  {
   "cell_type": "code",
   "execution_count": 14,
   "id": "d26d8306",
   "metadata": {},
   "outputs": [],
   "source": [
    "\n",
    "tokenizer = Okt()\n",
    "tokens = [tokenizer.morphs(review) for review in train.text]\n"
   ]
  },
  {
   "cell_type": "code",
   "execution_count": 15,
   "id": "c8369d8f",
   "metadata": {},
   "outputs": [],
   "source": [
    "from gensim.models import Word2Vec\n",
    "word2vec = Word2Vec(\n",
    "    sentences=tokens,\n",
    "    vector_size=128,#임베딩 된 벡터 차원\n",
    "    window=5,#윈도우 크기\n",
    "    min_count=1,#단어의 최소 빈도수 빈도가 적은 단어들은 학습 x\n",
    "    sg=1,#Skip-gram을 사용하겠다는 뜻 당연히 0이면  CBoW\n",
    "    epochs=3,\n",
    "    max_final_vocab=10000 #빈도 순 단어 내림차순 정렬 후 정렬된 단어중 max_final_vocab index 자리의 단어 빈도와 min_count중 큰 값을 min_count로 지정\n",
    "    #한마디로 min count를 치환, 단어 마지노선을 상향하겠다는 의미\n",
    "    #참고자료:https://hoonzi-text.tistory.com/2\n",
    ")\n",
    "\n",
    "init_embeddings = np.zeros((n_vocab, embedding_dim))\n",
    "\n",
    "for index, token in id_to_token.items():\n",
    "    if token not in [\"<pad>\", \"<unk>\"]:\n",
    "        init_embeddings[index] = word2vec.wv[token]\n",
    "#단어 사전을 워드투백으로 임베딩한 값 생성\n",
    "embedding_layer = nn.Embedding.from_pretrained(\n",
    "    torch.tensor(init_embeddings, dtype=torch.float32)\n",
    ")"
   ]
  },
  {
   "cell_type": "code",
   "execution_count": 16,
   "id": "f3ce7df4",
   "metadata": {},
   "outputs": [
    {
     "name": "stdout",
     "output_type": "stream",
     "text": [
      "(5002, 128)\n"
     ]
    }
   ],
   "source": [
    "print(init_embeddings.shape)"
   ]
  },
  {
   "cell_type": "code",
   "execution_count": 17,
   "id": "7010f94d",
   "metadata": {},
   "outputs": [],
   "source": [
    "def train(model, datasets, criterion, optimizer, device, interval):\n",
    "    model.train()\n",
    "    losses = list()\n",
    "\n",
    "    for step, (input_ids, labels) in enumerate(datasets):\n",
    "        input_ids = input_ids.to(device)\n",
    "        labels = labels.to(device).unsqueeze(1)\n",
    "        #단어 사전의 인덱스 값 형태인 입력값 설정\n",
    "        #라벨 값에 1차원을 추가함 ex(3,4)-->(1,3,4) 참고자료:https://jimmy-ai.tistory.com/110\n",
    "        logits = model(input_ids)#모델 순전파\n",
    "        loss = criterion(logits, labels)#손실값구함\n",
    "        losses.append(loss.item())\n",
    "\n",
    "        optimizer.zero_grad()\n",
    "        #가중치 초기화\n",
    "        loss.backward()\n",
    "        #역전파\n",
    "        optimizer.step()\n",
    "        #가중치 업데이트\n",
    "\n",
    "        if step % interval == 0:\n",
    "            print(f\"Train Loss {step} : {np.mean(losses)}\")\n",
    "\n",
    "\n",
    "def test(model, datasets, criterion, device):\n",
    "    model.eval()\n",
    "    losses = list()\n",
    "    corrects = list()\n",
    "\n",
    "    for step, (input_ids, labels) in enumerate(datasets):\n",
    "        input_ids = input_ids.to(device)\n",
    "        labels = labels.to(device).unsqueeze(1)\n",
    "\n",
    "        logits = model(input_ids)\n",
    "        loss = criterion(logits, labels)\n",
    "        losses.append(loss.item())\n",
    "        yhat = torch.sigmoid(logits)>.5\n",
    "        #출력값 시그모이드 함수 통과\n",
    "        corrects.extend(\n",
    "            torch.eq(yhat, labels).cpu().tolist()\n",
    "        )\n",
    "\n",
    "    print(f\"Val Loss : {np.mean(losses)}, Val Accuracy : {np.mean(corrects)}\")"
   ]
  },
  {
   "cell_type": "code",
   "execution_count": 18,
   "id": "cc439ca8",
   "metadata": {},
   "outputs": [
    {
     "name": "stdout",
     "output_type": "stream",
     "text": [
      "Train Loss 0 : 0.6997377872467041\n",
      "Train Loss 500 : 0.6614526964709192\n",
      "Train Loss 1000 : 0.5965140030517445\n",
      "Train Loss 1500 : 0.5746445728889074\n",
      "Train Loss 2000 : 0.559323578879334\n",
      "Train Loss 2500 : 0.5464668736511209\n",
      "Val Loss : 0.47347283501404164, Val Accuracy : 0.7804\n",
      "Train Loss 0 : 0.6353675127029419\n",
      "Train Loss 500 : 0.49205217752865926\n",
      "Train Loss 1000 : 0.48839313559956127\n",
      "Train Loss 1500 : 0.48441855770242287\n",
      "Train Loss 2000 : 0.48172992039685963\n",
      "Train Loss 2500 : 0.47861969115280334\n",
      "Val Loss : 0.44926272256496236, Val Accuracy : 0.7914\n",
      "Train Loss 0 : 0.5498812794685364\n",
      "Train Loss 500 : 0.4698312818230745\n",
      "Train Loss 1000 : 0.4595781006328352\n",
      "Train Loss 1500 : 0.45989138633509147\n",
      "Train Loss 2000 : 0.4572534009419579\n",
      "Train Loss 2500 : 0.4565079646592424\n",
      "Val Loss : 0.4339439758001425, Val Accuracy : 0.7996\n",
      "Train Loss 0 : 0.3412971794605255\n",
      "Train Loss 500 : 0.43767992566207686\n",
      "Train Loss 1000 : 0.4383460546766485\n",
      "Train Loss 1500 : 0.44374014503712816\n",
      "Train Loss 2000 : 0.43877283291987096\n",
      "Train Loss 2500 : 0.43814333519045234\n",
      "Val Loss : 0.4222323942584352, Val Accuracy : 0.8026\n",
      "Train Loss 0 : 0.49814558029174805\n",
      "Train Loss 500 : 0.42873160261474924\n",
      "Train Loss 1000 : 0.4273574385460797\n",
      "Train Loss 1500 : 0.42687266219226144\n",
      "Train Loss 2000 : 0.42654037532182054\n",
      "Train Loss 2500 : 0.4278945277174298\n",
      "Val Loss : 0.4587169584279624, Val Accuracy : 0.794\n"
     ]
    }
   ],
   "source": [
    "from torch import optim\n",
    "\n",
    "\n",
    "device = \"cuda\" if torch.cuda.is_available() else \"cpu\"\n",
    "classifier = SentenceClassifier(\n",
    "    n_vocab=n_vocab, hidden_dim=hidden_dim, embedding_dim=embedding_dim, \n",
    "n_layers=n_layers, pretrained_embedding=init_embeddings\n",
    ").to(device) #모델 정의\n",
    "criterion = nn.BCEWithLogitsLoss().to(device)#손실 함수 정의\n",
    "optimizer = optim.RMSprop(classifier.parameters(), lr=0.001)\n",
    "#옵티마이저\n",
    "epochs = 5\n",
    "interval = 500\n",
    "\n",
    "for epoch in range(epochs):\n",
    "    train(classifier, train_loader, criterion, optimizer, device, interval)\n",
    "    test(classifier, test_loader, criterion, device)"
   ]
  },
  {
   "attachments": {
    "image.png": {
     "image/png": "[encoded data removed]"
    }
   },
   "cell_type": "markdown",
   "id": "863c1712",
   "metadata": {},
   "source": [
    "![image.png](attachment:image.png)"
   ]
  }
 ],
 "metadata": {
  "kernelspec": {
   "display_name": "Python 3 (ipykernel)",
   "language": "python",
   "name": "python3"
  },
  "language_info": {
   "codemirror_mode": {
    "name": "ipython",
    "version": 3
   },
   "file_extension": ".py",
   "mimetype": "text/x-python",
   "name": "python",
   "nbconvert_exporter": "python",
   "pygments_lexer": "ipython3",
   "version": "3.11.5"
  }
 },
 "nbformat": 4,
 "nbformat_minor": 5
}
